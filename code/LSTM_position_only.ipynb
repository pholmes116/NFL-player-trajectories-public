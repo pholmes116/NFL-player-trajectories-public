{
 "cells": [
  {
   "cell_type": "markdown",
   "id": "0abb3e82",
   "metadata": {},
   "source": [
    "# Baseline **LSTM** Frame Predictor\n",
    "\n",
    "A companion to the Transformer notebook — shares the same dataset loading,\n",
    "section layout, and training loop so you can compare apples‑to‑apples.\n",
    "\n",
    "<small>*(Sections are numbered & boxed exactly like the Transformer notebook.)*</small>"
   ]
  },
  {
   "cell_type": "code",
   "execution_count": 4,
   "id": "702af0ea",
   "metadata": {},
   "outputs": [
    {
     "name": "stdout",
     "output_type": "stream",
     "text": [
      "X shape: (64, 100, 46)\n",
      "y shape: (64, 46)\n"
     ]
    }
   ],
   "source": [
    "import tensorflow as tf\n",
    "import numpy as np\n",
    "\n",
    "# ╔════════════════════╗\n",
    "# ║ 1. Load  Dataset  ║\n",
    "# ╚════════════════════╝\n",
    "DATASET_PATH = \"../processed_data/transformer_dataset\"  # adjust if needed\n",
    "\n",
    "ds = (tf.data.Dataset.load(DATASET_PATH)\n",
    "      .shuffle(4096)\n",
    "      .batch(64)\n",
    "      .prefetch(tf.data.AUTOTUNE))\n",
    "\n",
    "# Peek at one batch\n",
    "for X, y in ds.take(1):\n",
    "    print(\"X shape:\", X.shape)\n",
    "    print(\"y shape:\", y.shape)\n",
    "    break"
   ]
  },
  {
   "cell_type": "code",
   "execution_count": 5,
   "id": "6cb748df",
   "metadata": {},
   "outputs": [
    {
     "name": "stdout",
     "output_type": "stream",
     "text": [
      "Padding rows: 34\n"
     ]
    }
   ],
   "source": [
    "import matplotlib.pyplot as plt\n",
    "\n",
    "# ╔═══════════════════╗\n",
    "# ║ 2. Sanity checks ║\n",
    "# ╚═══════════════════╝\n",
    "NUM_FEATS = 46\n",
    "MAX_LEN   = 100\n",
    "\n",
    "def sanity_check(x, y):\n",
    "    assert x.shape == (MAX_LEN, NUM_FEATS)\n",
    "    assert y.shape == (NUM_FEATS,)\n",
    "    nonzero_rows = np.any(x.numpy() != 0, axis=1)\n",
    "    pad = MAX_LEN - np.count_nonzero(nonzero_rows)\n",
    "    print(f\"Padding rows: {pad}\")\n",
    "    if np.allclose(y.numpy(), 0):\n",
    "        print(\"⚠️ y is all zeros!\")\n",
    "\n",
    "for X_batch, y_batch in ds.take(1):\n",
    "    sanity_check(X_batch[0], y_batch[0])\n",
    "    break"
   ]
  },
  {
   "cell_type": "code",
   "execution_count": 6,
   "id": "8c97bfe2",
   "metadata": {},
   "outputs": [
    {
     "data": {
      "text/html": [
       "<pre style=\"white-space:pre;overflow-x:auto;line-height:normal;font-family:Menlo,'DejaVu Sans Mono',consolas,'Courier New',monospace\"><span style=\"font-weight: bold\">Model: \"Baseline_LSTM\"</span>\n",
       "</pre>\n"
      ],
      "text/plain": [
       "\u001b[1mModel: \"Baseline_LSTM\"\u001b[0m\n"
      ]
     },
     "metadata": {},
     "output_type": "display_data"
    },
    {
     "data": {
      "text/html": [
       "<pre style=\"white-space:pre;overflow-x:auto;line-height:normal;font-family:Menlo,'DejaVu Sans Mono',consolas,'Courier New',monospace\">┏━━━━━━━━━━━━━━━━━━━━━━━━━━━━━━━━━┳━━━━━━━━━━━━━━━━━━━━━━━━┳━━━━━━━━━━━━━━━┓\n",
       "┃<span style=\"font-weight: bold\"> Layer (type)                    </span>┃<span style=\"font-weight: bold\"> Output Shape           </span>┃<span style=\"font-weight: bold\">       Param # </span>┃\n",
       "┡━━━━━━━━━━━━━━━━━━━━━━━━━━━━━━━━━╇━━━━━━━━━━━━━━━━━━━━━━━━╇━━━━━━━━━━━━━━━┩\n",
       "│ sequence (<span style=\"color: #0087ff; text-decoration-color: #0087ff\">InputLayer</span>)           │ (<span style=\"color: #00d7ff; text-decoration-color: #00d7ff\">None</span>, <span style=\"color: #00af00; text-decoration-color: #00af00\">100</span>, <span style=\"color: #00af00; text-decoration-color: #00af00\">46</span>)        │             <span style=\"color: #00af00; text-decoration-color: #00af00\">0</span> │\n",
       "├─────────────────────────────────┼────────────────────────┼───────────────┤\n",
       "│ lstm_backbone (<span style=\"color: #0087ff; text-decoration-color: #0087ff\">LSTM</span>)            │ (<span style=\"color: #00d7ff; text-decoration-color: #00d7ff\">None</span>, <span style=\"color: #00af00; text-decoration-color: #00af00\">128</span>)            │        <span style=\"color: #00af00; text-decoration-color: #00af00\">89,600</span> │\n",
       "├─────────────────────────────────┼────────────────────────┼───────────────┤\n",
       "│ dense_relu (<span style=\"color: #0087ff; text-decoration-color: #0087ff\">Dense</span>)              │ (<span style=\"color: #00d7ff; text-decoration-color: #00d7ff\">None</span>, <span style=\"color: #00af00; text-decoration-color: #00af00\">128</span>)            │        <span style=\"color: #00af00; text-decoration-color: #00af00\">16,512</span> │\n",
       "├─────────────────────────────────┼────────────────────────┼───────────────┤\n",
       "│ pred_xy (<span style=\"color: #0087ff; text-decoration-color: #0087ff\">Dense</span>)                 │ (<span style=\"color: #00d7ff; text-decoration-color: #00d7ff\">None</span>, <span style=\"color: #00af00; text-decoration-color: #00af00\">46</span>)             │         <span style=\"color: #00af00; text-decoration-color: #00af00\">5,934</span> │\n",
       "└─────────────────────────────────┴────────────────────────┴───────────────┘\n",
       "</pre>\n"
      ],
      "text/plain": [
       "┏━━━━━━━━━━━━━━━━━━━━━━━━━━━━━━━━━┳━━━━━━━━━━━━━━━━━━━━━━━━┳━━━━━━━━━━━━━━━┓\n",
       "┃\u001b[1m \u001b[0m\u001b[1mLayer (type)                   \u001b[0m\u001b[1m \u001b[0m┃\u001b[1m \u001b[0m\u001b[1mOutput Shape          \u001b[0m\u001b[1m \u001b[0m┃\u001b[1m \u001b[0m\u001b[1m      Param #\u001b[0m\u001b[1m \u001b[0m┃\n",
       "┡━━━━━━━━━━━━━━━━━━━━━━━━━━━━━━━━━╇━━━━━━━━━━━━━━━━━━━━━━━━╇━━━━━━━━━━━━━━━┩\n",
       "│ sequence (\u001b[38;5;33mInputLayer\u001b[0m)           │ (\u001b[38;5;45mNone\u001b[0m, \u001b[38;5;34m100\u001b[0m, \u001b[38;5;34m46\u001b[0m)        │             \u001b[38;5;34m0\u001b[0m │\n",
       "├─────────────────────────────────┼────────────────────────┼───────────────┤\n",
       "│ lstm_backbone (\u001b[38;5;33mLSTM\u001b[0m)            │ (\u001b[38;5;45mNone\u001b[0m, \u001b[38;5;34m128\u001b[0m)            │        \u001b[38;5;34m89,600\u001b[0m │\n",
       "├─────────────────────────────────┼────────────────────────┼───────────────┤\n",
       "│ dense_relu (\u001b[38;5;33mDense\u001b[0m)              │ (\u001b[38;5;45mNone\u001b[0m, \u001b[38;5;34m128\u001b[0m)            │        \u001b[38;5;34m16,512\u001b[0m │\n",
       "├─────────────────────────────────┼────────────────────────┼───────────────┤\n",
       "│ pred_xy (\u001b[38;5;33mDense\u001b[0m)                 │ (\u001b[38;5;45mNone\u001b[0m, \u001b[38;5;34m46\u001b[0m)             │         \u001b[38;5;34m5,934\u001b[0m │\n",
       "└─────────────────────────────────┴────────────────────────┴───────────────┘\n"
      ]
     },
     "metadata": {},
     "output_type": "display_data"
    },
    {
     "data": {
      "text/html": [
       "<pre style=\"white-space:pre;overflow-x:auto;line-height:normal;font-family:Menlo,'DejaVu Sans Mono',consolas,'Courier New',monospace\"><span style=\"font-weight: bold\"> Total params: </span><span style=\"color: #00af00; text-decoration-color: #00af00\">112,046</span> (437.68 KB)\n",
       "</pre>\n"
      ],
      "text/plain": [
       "\u001b[1m Total params: \u001b[0m\u001b[38;5;34m112,046\u001b[0m (437.68 KB)\n"
      ]
     },
     "metadata": {},
     "output_type": "display_data"
    },
    {
     "data": {
      "text/html": [
       "<pre style=\"white-space:pre;overflow-x:auto;line-height:normal;font-family:Menlo,'DejaVu Sans Mono',consolas,'Courier New',monospace\"><span style=\"font-weight: bold\"> Trainable params: </span><span style=\"color: #00af00; text-decoration-color: #00af00\">112,046</span> (437.68 KB)\n",
       "</pre>\n"
      ],
      "text/plain": [
       "\u001b[1m Trainable params: \u001b[0m\u001b[38;5;34m112,046\u001b[0m (437.68 KB)\n"
      ]
     },
     "metadata": {},
     "output_type": "display_data"
    },
    {
     "data": {
      "text/html": [
       "<pre style=\"white-space:pre;overflow-x:auto;line-height:normal;font-family:Menlo,'DejaVu Sans Mono',consolas,'Courier New',monospace\"><span style=\"font-weight: bold\"> Non-trainable params: </span><span style=\"color: #00af00; text-decoration-color: #00af00\">0</span> (0.00 B)\n",
       "</pre>\n"
      ],
      "text/plain": [
       "\u001b[1m Non-trainable params: \u001b[0m\u001b[38;5;34m0\u001b[0m (0.00 B)\n"
      ]
     },
     "metadata": {},
     "output_type": "display_data"
    }
   ],
   "source": [
    "from tensorflow import keras\n",
    "from tensorflow.keras import layers\n",
    "\n",
    "# ╔══════════════════════╗\n",
    "# ║ 3. LSTM Model Build ║\n",
    "# ╚══════════════════════╝\n",
    "# Hyper‑parameters\n",
    "LSTM_UNITS = 128\n",
    "EMBED_DIM  = 4        # position embedding (unused here — coords‑only baseline)\n",
    "\n",
    "def mse_sum_xy(y_true, y_pred):\n",
    "    diff = tf.reshape(y_true - y_pred, (-1, 23, 2))\n",
    "    return tf.reduce_sum(tf.square(diff), axis=[1,2])\n",
    "\n",
    "def build_lstm(max_len=MAX_LEN, num_feats=NUM_FEATS, lstm_units=LSTM_UNITS):\n",
    "    seq_in = layers.Input(shape=(max_len, num_feats), name=\"sequence\")\n",
    "    x = layers.LSTM(lstm_units, name=\"lstm_backbone\")(seq_in)\n",
    "    x = layers.Dense(lstm_units, activation=\"relu\", name=\"dense_relu\")(x)\n",
    "    out = layers.Dense(num_feats, name=\"pred_xy\")(x)\n",
    "    model = keras.Model(seq_in, out, name=\"Baseline_LSTM\")\n",
    "    model.compile(optimizer=keras.optimizers.Adam(1e-4),\n",
    "                  loss=mse_sum_xy,\n",
    "                  metrics=[keras.metrics.MeanAbsoluteError()])\n",
    "    return model\n",
    "\n",
    "model = build_lstm()\n",
    "model.summary()"
   ]
  },
  {
   "cell_type": "code",
   "execution_count": null,
   "id": "c01b20f9",
   "metadata": {},
   "outputs": [
    {
     "name": "stdout",
     "output_type": "stream",
     "text": [
      "Epoch 1/15\n",
      "38050/38050 - 1884s - 50ms/step - loss: 0.0307 - mean_absolute_error: 0.0093 - val_loss: 6.9056e-04 - val_mean_absolute_error: 0.0024\n",
      "Epoch 2/15\n",
      "38050/38050 - 1995s - 52ms/step - loss: 4.0324e-04 - mean_absolute_error: 0.0019 - val_loss: 3.0334e-04 - val_mean_absolute_error: 0.0017\n",
      "Epoch 3/15\n",
      "38050/38050 - 5595s - 147ms/step - loss: 1.9981e-04 - mean_absolute_error: 0.0014 - val_loss: 1.9871e-04 - val_mean_absolute_error: 0.0015\n",
      "Epoch 4/15\n"
     ]
    }
   ],
   "source": [
    "# ╔══════════════════════╗\n",
    "# ║ 5. Compile & Train  ║\n",
    "# ╚══════════════════════╝\n",
    "EPOCHS = 15\n",
    "val_split = 0.05\n",
    "val_ds = ds.take(int(len(ds)*val_split))\n",
    "train_ds = ds.skip(int(len(ds)*val_split))\n",
    "\n",
    "history = model.fit(train_ds, epochs=EPOCHS, validation_data=val_ds, verbose=2)"
   ]
  },
  {
   "cell_type": "code",
   "execution_count": null,
   "id": "1648be27",
   "metadata": {},
   "outputs": [],
   "source": [
    "# ╔═══════════════╗\n",
    "# ║ 6. Evaluation ║\n",
    "# ╚═══════════════╝\n",
    "for X_batch, y_batch in val_ds.take(1):\n",
    "    y_pred = model(X_batch)\n",
    "    mse = tf.reduce_mean(tf.square(y_pred - y_batch))\n",
    "    print(\"Validation MSE (batch):\", mse.numpy())"
   ]
  },
  {
   "cell_type": "code",
   "execution_count": null,
   "id": "ec9f6108",
   "metadata": {},
   "outputs": [],
   "source": [
    "# ╔════════════════╗\n",
    "# ║ 7. Curves Plot ║\n",
    "# ╚════════════════╝\n",
    "plt.figure()\n",
    "plt.plot(history.history['loss'], label='train')\n",
    "plt.plot(history.history['val_loss'], label='val')\n",
    "plt.title('Loss curve')\n",
    "plt.xlabel('Epoch')\n",
    "plt.ylabel('Loss')\n",
    "plt.legend()\n",
    "plt.show()"
   ]
  }
 ],
 "metadata": {
  "kernelspec": {
   "display_name": "NFL_env",
   "language": "python",
   "name": "python3"
  },
  "language_info": {
   "codemirror_mode": {
    "name": "ipython",
    "version": 3
   },
   "file_extension": ".py",
   "mimetype": "text/x-python",
   "name": "python",
   "nbconvert_exporter": "python",
   "pygments_lexer": "ipython3",
   "version": "3.10.14"
  }
 },
 "nbformat": 4,
 "nbformat_minor": 5
}
