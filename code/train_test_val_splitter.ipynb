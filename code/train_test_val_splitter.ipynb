{
 "cells": [
  {
   "cell_type": "code",
   "execution_count": 1,
   "id": "f3ecd73f",
   "metadata": {},
   "outputs": [
    {
     "name": "stdout",
     "output_type": "stream",
     "text": [
      "Saved minimal tracking data with split column.\n"
     ]
    }
   ],
   "source": [
    "import polars as pl\n",
    "import os\n",
    "import numpy as np\n",
    "\n",
    "FOLDER = \"../raw_data/\"\n",
    "SAVE_FOLDER = \"../processed_data/\"\n",
    "N_TRACKING_FILES = 2\n",
    "TRACKING_FILES = [FOLDER + f\"tracking_week_{i}.csv\" for i in range(1, N_TRACKING_FILES + 1)]\n",
    "\n",
    "# Data Split Ratios\n",
    "TRAIN = .7\n",
    "TEST = .2\n",
    "VAL = .1\n",
    "\n",
    "os.makedirs(SAVE_FOLDER, exist_ok=True)\n",
    "\n",
    "# Load *only* gameId / playId once per play\n",
    "tracking_minimal = pl.concat([\n",
    "        pl.read_csv(f, columns=[\"gameId\", \"playId\"]).unique()\n",
    "        for f in TRACKING_FILES\n",
    "]).unique()                 # <-- 1 row per (gameId, playId)\n",
    "\n",
    "\n",
    "# Split based on unique gameIds\n",
    "unique_game_ids = tracking_minimal.select(\"gameId\").unique().to_series().to_list()\n",
    "np.random.seed(42)  # reproducible split\n",
    "np.random.shuffle(unique_game_ids)\n",
    "\n",
    "n = len(unique_game_ids)\n",
    "train_ids = set(unique_game_ids[:int(n * TRAIN)])\n",
    "val_ids = set(unique_game_ids[int(n * TRAIN):int(n * (TEST + TRAIN))])\n",
    "test_ids = set(unique_game_ids[int(n * (TRAIN + TEST)):])\n",
    "\n",
    "# Assign split label\n",
    "tracking_minimal = tracking_minimal.with_columns(\n",
    "    pl.when(pl.col(\"gameId\").is_in(train_ids)).then(pl.lit(\"train\"))\n",
    "    .when(pl.col(\"gameId\").is_in(val_ids)).then(pl.lit(\"val\"))\n",
    "    .otherwise(pl.lit(\"test\"))\n",
    "    .alias(\"split\")\n",
    ")\n",
    "\n",
    "# Save to disk\n",
    "tracking_minimal.write_parquet(SAVE_FOLDER + \"train_test_val.parquet\")\n",
    "print(\"Saved minimal tracking data with split column.\")\n"
   ]
  }
 ],
 "metadata": {
  "kernelspec": {
   "display_name": "NFL_env",
   "language": "python",
   "name": "python3"
  },
  "language_info": {
   "codemirror_mode": {
    "name": "ipython",
    "version": 3
   },
   "file_extension": ".py",
   "mimetype": "text/x-python",
   "name": "python",
   "nbconvert_exporter": "python",
   "pygments_lexer": "ipython3",
   "version": "3.10.8"
  }
 },
 "nbformat": 4,
 "nbformat_minor": 5
}
