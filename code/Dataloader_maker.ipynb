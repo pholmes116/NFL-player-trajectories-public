{
 "cells": [
  {
   "cell_type": "code",
   "execution_count": 1,
   "id": "5a4f9246",
   "metadata": {},
   "outputs": [
    {
     "name": "stdout",
     "output_type": "stream",
     "text": [
      "Requirement already satisfied: tqdm in c:\\users\\sebas\\miniconda3\\envs\\nfl_env\\lib\\site-packages (4.67.1)\n",
      "Requirement already satisfied: colorama in c:\\users\\sebas\\miniconda3\\envs\\nfl_env\\lib\\site-packages (from tqdm) (0.4.6)\n"
     ]
    }
   ],
   "source": [
    "! pip install tqdm"
   ]
  },
  {
   "cell_type": "code",
   "execution_count": 3,
   "id": "101db948",
   "metadata": {},
   "outputs": [],
   "source": [
    "import polars as pl\n",
    "import numpy as np\n",
    "import tensorflow as tf\n",
    "import matplotlib.pyplot as plt\n",
    "import seaborn as sns\n",
    "from collections import Counter\n",
    "from typing import List, Tuple\n"
   ]
  },
  {
   "cell_type": "code",
   "execution_count": 4,
   "id": "b3d57d32",
   "metadata": {},
   "outputs": [],
   "source": [
    "PARQUET_PATH = \"model_input.parquet\"\n",
    "\n",
    "NUM_ENTITIES = 23\n",
    "COORDS       = [\"x\", \"y\"]\n",
    "FEATS_PER_ENTITY = len(COORDS)          # 2\n",
    "NUM_FEATS    = NUM_ENTITIES * FEATS_PER_ENTITY   # 46\n",
    "\n",
    "SEQ_MIN_LEN  = 2        # need (t , t+1)\n",
    "MAX_SEQ_LEN  = 100      # fixed pad length – change if you like\n",
    "\n",
    "POSITIONAL_FEATURES = [f\"{c}_{i}\"\n",
    "                  for i in range(1, NUM_ENTITIES + 1)\n",
    "                  for c in COORDS]\n",
    "INPUT_FEATURES = POSITIONAL_FEATURES.copy()  # Change as needeed\n",
    "TARGET_FEATURES = POSITIONAL_FEATURES.copy()  # Change as needeed\n"
   ]
  },
  {
   "cell_type": "code",
   "execution_count": 5,
   "id": "34b80d84",
   "metadata": {},
   "outputs": [
    {
     "data": {
      "text/html": [
       "<div><style>\n",
       ".dataframe > thead > tr,\n",
       ".dataframe > tbody > tr {\n",
       "  text-align: right;\n",
       "  white-space: pre-wrap;\n",
       "}\n",
       "</style>\n",
       "<small>shape: (9, 262)</small><table border=\"1\" class=\"dataframe\"><thead><tr><th>statistic</th><th>gameId</th><th>playId</th><th>frameId</th><th>x_1</th><th>x_2</th><th>x_3</th><th>x_4</th><th>x_5</th><th>x_6</th><th>x_7</th><th>x_8</th><th>x_9</th><th>x_10</th><th>x_11</th><th>x_12</th><th>x_13</th><th>x_14</th><th>x_15</th><th>x_16</th><th>x_17</th><th>x_18</th><th>x_19</th><th>x_20</th><th>x_21</th><th>x_22</th><th>x_23</th><th>y_1</th><th>y_2</th><th>y_3</th><th>y_4</th><th>y_5</th><th>y_6</th><th>y_7</th><th>y_8</th><th>y_9</th><th>y_10</th><th>&hellip;</th><th>event_pass_forward</th><th>event_pass_outcome_caught</th><th>event_pass_outcome_incomplete</th><th>event_pass_outcome_interception</th><th>event_pass_outcome_touchdown</th><th>event_pass_shovel</th><th>event_pass_tipped</th><th>event_penalty_accepted</th><th>event_penalty_flag</th><th>event_play_action</th><th>event_play_submit</th><th>event_qb_kneel</th><th>event_qb_sack</th><th>event_qb_slide</th><th>event_qb_spike</th><th>event_qb_strip_sack</th><th>event_run</th><th>event_run_pass_option</th><th>event_safety</th><th>event_shift</th><th>event_snap_direct</th><th>event_tackle</th><th>event_timeout_away</th><th>event_touchback</th><th>event_touchdown</th><th>quarter_1</th><th>quarter_2</th><th>quarter_4</th><th>quarter_5</th><th>down_2</th><th>down_3</th><th>down_4</th><th>yardsToGo</th><th>gameClock</th><th>preSnapHomeScore</th><th>preSnapVisitorScore</th><th>yardsToScore</th></tr><tr><td>str</td><td>f64</td><td>f64</td><td>f64</td><td>f64</td><td>f64</td><td>f64</td><td>f64</td><td>f64</td><td>f64</td><td>f64</td><td>f64</td><td>f64</td><td>f64</td><td>f64</td><td>f64</td><td>f64</td><td>f64</td><td>f64</td><td>f64</td><td>f64</td><td>f64</td><td>f64</td><td>f64</td><td>f64</td><td>f64</td><td>f64</td><td>f64</td><td>f64</td><td>f64</td><td>f64</td><td>f64</td><td>f64</td><td>f64</td><td>f64</td><td>f64</td><td>f64</td><td>&hellip;</td><td>f64</td><td>f64</td><td>f64</td><td>f64</td><td>f64</td><td>f64</td><td>f64</td><td>f64</td><td>f64</td><td>f64</td><td>f64</td><td>f64</td><td>f64</td><td>f64</td><td>f64</td><td>f64</td><td>f64</td><td>f64</td><td>f64</td><td>f64</td><td>f64</td><td>f64</td><td>f64</td><td>f64</td><td>f64</td><td>f64</td><td>f64</td><td>f64</td><td>f64</td><td>f64</td><td>f64</td><td>f64</td><td>f64</td><td>f64</td><td>f64</td><td>f64</td><td>f64</td></tr></thead><tbody><tr><td>&quot;count&quot;</td><td>2.579445e6</td><td>2.579445e6</td><td>2.579445e6</td><td>2.579445e6</td><td>2.579445e6</td><td>2.579445e6</td><td>2.579445e6</td><td>2.579445e6</td><td>2.579445e6</td><td>2.579445e6</td><td>2.579445e6</td><td>2.579445e6</td><td>2.579445e6</td><td>2.579445e6</td><td>2.579445e6</td><td>2.579445e6</td><td>2.579445e6</td><td>2.579445e6</td><td>2.579445e6</td><td>2.579445e6</td><td>2.579445e6</td><td>2.579445e6</td><td>2.579445e6</td><td>2.579445e6</td><td>2.579445e6</td><td>2.579445e6</td><td>2.579445e6</td><td>2.579445e6</td><td>2.579445e6</td><td>2.579445e6</td><td>2.579445e6</td><td>2.579445e6</td><td>2.579445e6</td><td>2.579445e6</td><td>2.579445e6</td><td>2.579445e6</td><td>&hellip;</td><td>2.579445e6</td><td>2.579445e6</td><td>2.579445e6</td><td>2.579445e6</td><td>2.579445e6</td><td>2.579445e6</td><td>2.579445e6</td><td>2.579445e6</td><td>2.579445e6</td><td>2.579445e6</td><td>2.579445e6</td><td>2.579445e6</td><td>2.579445e6</td><td>2.579445e6</td><td>2.579445e6</td><td>2.579445e6</td><td>2.579445e6</td><td>2.579445e6</td><td>2.579445e6</td><td>2.579445e6</td><td>2.579445e6</td><td>2.579445e6</td><td>2.579445e6</td><td>2.579445e6</td><td>2.579445e6</td><td>2.579445e6</td><td>2.579445e6</td><td>2.579445e6</td><td>2.579445e6</td><td>2.579445e6</td><td>2.579445e6</td><td>2.579445e6</td><td>2.579445e6</td><td>2.579445e6</td><td>2.579445e6</td><td>2.579445e6</td><td>2.579445e6</td></tr><tr><td>&quot;null_count&quot;</td><td>0.0</td><td>0.0</td><td>0.0</td><td>0.0</td><td>0.0</td><td>0.0</td><td>0.0</td><td>0.0</td><td>0.0</td><td>0.0</td><td>0.0</td><td>0.0</td><td>0.0</td><td>0.0</td><td>0.0</td><td>0.0</td><td>0.0</td><td>0.0</td><td>0.0</td><td>0.0</td><td>0.0</td><td>0.0</td><td>0.0</td><td>0.0</td><td>0.0</td><td>0.0</td><td>0.0</td><td>0.0</td><td>0.0</td><td>0.0</td><td>0.0</td><td>0.0</td><td>0.0</td><td>0.0</td><td>0.0</td><td>0.0</td><td>&hellip;</td><td>0.0</td><td>0.0</td><td>0.0</td><td>0.0</td><td>0.0</td><td>0.0</td><td>0.0</td><td>0.0</td><td>0.0</td><td>0.0</td><td>0.0</td><td>0.0</td><td>0.0</td><td>0.0</td><td>0.0</td><td>0.0</td><td>0.0</td><td>0.0</td><td>0.0</td><td>0.0</td><td>0.0</td><td>0.0</td><td>0.0</td><td>0.0</td><td>0.0</td><td>0.0</td><td>0.0</td><td>0.0</td><td>0.0</td><td>0.0</td><td>0.0</td><td>0.0</td><td>0.0</td><td>0.0</td><td>0.0</td><td>0.0</td><td>0.0</td></tr><tr><td>&quot;mean&quot;</td><td>2.0221e9</td><td>1978.949968</td><td>87.425831</td><td>0.505813</td><td>0.506302</td><td>0.505584</td><td>0.50582</td><td>0.505944</td><td>0.505624</td><td>0.505286</td><td>0.505084</td><td>0.505222</td><td>0.504954</td><td>0.505312</td><td>0.505704</td><td>0.505167</td><td>0.505714</td><td>0.505449</td><td>0.505589</td><td>0.505886</td><td>0.505224</td><td>0.505047</td><td>0.505539</td><td>0.505966</td><td>0.505555</td><td>0.505579</td><td>0.501645</td><td>0.501117</td><td>0.501014</td><td>0.501912</td><td>0.501331</td><td>0.501806</td><td>0.502137</td><td>0.501343</td><td>0.500822</td><td>0.500742</td><td>&hellip;</td><td>0.003357</td><td>0.002076</td><td>0.0011</td><td>0.000073</td><td>0.000071</td><td>0.000019</td><td>0.000082</td><td>7.7536e-7</td><td>0.000002</td><td>0.001064</td><td>0.000062</td><td>0.000064</td><td>0.000206</td><td>0.000047</td><td>0.000009</td><td>0.000022</td><td>0.000353</td><td>3.8768e-7</td><td>0.000002</td><td>0.000787</td><td>0.000021</td><td>0.003895</td><td>3.8768e-7</td><td>0.000008</td><td>0.000167</td><td>0.233161</td><td>0.272853</td><td>0.260644</td><td>0.008546</td><td>0.331823</td><td>0.216995</td><td>0.018656</td><td>8.522634</td><td>0.485753</td><td>0.220356</td><td>0.195724</td><td>51.618582</td></tr><tr><td>&quot;std&quot;</td><td>5978.098729</td><td>1174.310087</td><td>59.526562</td><td>0.17221</td><td>0.17183</td><td>0.171781</td><td>0.172533</td><td>0.172766</td><td>0.172333</td><td>0.172571</td><td>0.171919</td><td>0.171622</td><td>0.172337</td><td>0.171384</td><td>0.172226</td><td>0.172026</td><td>0.172197</td><td>0.171629</td><td>0.171755</td><td>0.172161</td><td>0.172091</td><td>0.172516</td><td>0.172387</td><td>0.172325</td><td>0.172065</td><td>0.171906</td><td>0.0723</td><td>0.078451</td><td>0.081215</td><td>0.082914</td><td>0.084913</td><td>0.084596</td><td>0.08445</td><td>0.085514</td><td>0.084752</td><td>0.083784</td><td>&hellip;</td><td>0.057842</td><td>0.045516</td><td>0.033146</td><td>0.008537</td><td>0.0084</td><td>0.004314</td><td>0.009065</td><td>0.000881</td><td>0.001245</td><td>0.032604</td><td>0.007851</td><td>0.007998</td><td>0.014346</td><td>0.006821</td><td>0.002986</td><td>0.004701</td><td>0.01879</td><td>0.000623</td><td>0.001392</td><td>0.028042</td><td>0.004618</td><td>0.062285</td><td>0.000623</td><td>0.002853</td><td>0.01294</td><td>0.422844</td><td>0.445426</td><td>0.438986</td><td>0.092047</td><td>0.470868</td><td>0.412199</td><td>0.135308</td><td>3.876126</td><td>0.300555</td><td>0.187577</td><td>0.181906</td><td>24.071659</td></tr><tr><td>&quot;min&quot;</td><td>2.0221e9</td><td>54.0</td><td>1.0</td><td>0.07388</td><td>0.081373</td><td>0.057563</td><td>0.056653</td><td>0.057703</td><td>0.057283</td><td>0.063305</td><td>0.060364</td><td>0.064356</td><td>0.057073</td><td>0.069188</td><td>0.058263</td><td>0.052241</td><td>0.076331</td><td>0.068417</td><td>0.076331</td><td>0.034174</td><td>0.072689</td><td>0.063235</td><td>0.072479</td><td>0.077101</td><td>0.062745</td><td>0.0</td><td>0.1202</td><td>0.152497</td><td>0.154828</td><td>0.156937</td><td>0.097558</td><td>0.13263</td><td>0.145061</td><td>0.14384</td><td>0.12131</td><td>0.141953</td><td>&hellip;</td><td>0.0</td><td>0.0</td><td>0.0</td><td>0.0</td><td>0.0</td><td>0.0</td><td>0.0</td><td>0.0</td><td>0.0</td><td>0.0</td><td>0.0</td><td>0.0</td><td>0.0</td><td>0.0</td><td>0.0</td><td>0.0</td><td>0.0</td><td>0.0</td><td>0.0</td><td>0.0</td><td>0.0</td><td>0.0</td><td>0.0</td><td>0.0</td><td>0.0</td><td>0.0</td><td>0.0</td><td>0.0</td><td>0.0</td><td>0.0</td><td>0.0</td><td>0.0</td><td>1.0</td><td>0.001111</td><td>0.0</td><td>0.0</td><td>1.0</td></tr><tr><td>&quot;25%&quot;</td><td>2.0221e9</td><td>958.0</td><td>41.0</td><td>0.365266</td><td>0.367017</td><td>0.366317</td><td>0.366457</td><td>0.366036</td><td>0.367157</td><td>0.365896</td><td>0.366737</td><td>0.366247</td><td>0.366036</td><td>0.367437</td><td>0.367577</td><td>0.368277</td><td>0.369188</td><td>0.368347</td><td>0.367717</td><td>0.366457</td><td>0.366597</td><td>0.365616</td><td>0.366036</td><td>0.366667</td><td>0.367297</td><td>0.362045</td><td>0.465705</td><td>0.459822</td><td>0.454606</td><td>0.452941</td><td>0.45172</td><td>0.45172</td><td>0.452386</td><td>0.45172</td><td>0.450056</td><td>0.45172</td><td>&hellip;</td><td>0.0</td><td>0.0</td><td>0.0</td><td>0.0</td><td>0.0</td><td>0.0</td><td>0.0</td><td>0.0</td><td>0.0</td><td>0.0</td><td>0.0</td><td>0.0</td><td>0.0</td><td>0.0</td><td>0.0</td><td>0.0</td><td>0.0</td><td>0.0</td><td>0.0</td><td>0.0</td><td>0.0</td><td>0.0</td><td>0.0</td><td>0.0</td><td>0.0</td><td>0.0</td><td>0.0</td><td>0.0</td><td>0.0</td><td>0.0</td><td>0.0</td><td>0.0</td><td>6.0</td><td>0.214444</td><td>0.06</td><td>0.0</td><td>33.0</td></tr><tr><td>&quot;50%&quot;</td><td>2.0221e9</td><td>1956.0</td><td>81.0</td><td>0.508473</td><td>0.508754</td><td>0.508754</td><td>0.508543</td><td>0.509034</td><td>0.507913</td><td>0.506933</td><td>0.506933</td><td>0.506092</td><td>0.507213</td><td>0.507703</td><td>0.507913</td><td>0.507703</td><td>0.506653</td><td>0.507983</td><td>0.509314</td><td>0.508333</td><td>0.508403</td><td>0.507913</td><td>0.508824</td><td>0.508333</td><td>0.507143</td><td>0.508263</td><td>0.501554</td><td>0.501332</td><td>0.501554</td><td>0.501776</td><td>0.501332</td><td>0.501443</td><td>0.501221</td><td>0.501443</td><td>0.501221</td><td>0.500666</td><td>&hellip;</td><td>0.0</td><td>0.0</td><td>0.0</td><td>0.0</td><td>0.0</td><td>0.0</td><td>0.0</td><td>0.0</td><td>0.0</td><td>0.0</td><td>0.0</td><td>0.0</td><td>0.0</td><td>0.0</td><td>0.0</td><td>0.0</td><td>0.0</td><td>0.0</td><td>0.0</td><td>0.0</td><td>0.0</td><td>0.0</td><td>0.0</td><td>0.0</td><td>0.0</td><td>0.0</td><td>0.0</td><td>0.0</td><td>0.0</td><td>0.0</td><td>0.0</td><td>0.0</td><td>10.0</td><td>0.477778</td><td>0.2</td><td>0.14</td><td>55.0</td></tr><tr><td>&quot;75%&quot;</td><td>2.0221e9</td><td>2970.0</td><td>126.0</td><td>0.646008</td><td>0.645588</td><td>0.644048</td><td>0.644328</td><td>0.645238</td><td>0.644608</td><td>0.643978</td><td>0.643627</td><td>0.643908</td><td>0.643417</td><td>0.642787</td><td>0.644048</td><td>0.643067</td><td>0.643347</td><td>0.642087</td><td>0.642997</td><td>0.643627</td><td>0.643627</td><td>0.643137</td><td>0.642227</td><td>0.644958</td><td>0.644328</td><td>0.648529</td><td>0.537181</td><td>0.544173</td><td>0.548169</td><td>0.551387</td><td>0.550721</td><td>0.55172</td><td>0.55061</td><td>0.551276</td><td>0.551054</td><td>0.549501</td><td>&hellip;</td><td>0.0</td><td>0.0</td><td>0.0</td><td>0.0</td><td>0.0</td><td>0.0</td><td>0.0</td><td>0.0</td><td>0.0</td><td>0.0</td><td>0.0</td><td>0.0</td><td>0.0</td><td>0.0</td><td>0.0</td><td>0.0</td><td>0.0</td><td>0.0</td><td>0.0</td><td>0.0</td><td>0.0</td><td>0.0</td><td>0.0</td><td>0.0</td><td>0.0</td><td>0.0</td><td>1.0</td><td>1.0</td><td>0.0</td><td>1.0</td><td>0.0</td><td>0.0</td><td>10.0</td><td>0.747778</td><td>0.34</td><td>0.32</td><td>72.0</td></tr><tr><td>&quot;max&quot;</td><td>2.0221e9</td><td>5120.0</td><td>1010.0</td><td>0.927311</td><td>0.932073</td><td>0.937535</td><td>0.948249</td><td>0.932003</td><td>0.963095</td><td>0.947549</td><td>0.938936</td><td>0.941387</td><td>0.940546</td><td>0.931022</td><td>0.954132</td><td>0.939986</td><td>0.936555</td><td>0.932003</td><td>0.936485</td><td>0.943627</td><td>0.94867</td><td>0.934734</td><td>0.943067</td><td>0.922269</td><td>0.928151</td><td>1.0</td><td>0.839512</td><td>0.85283</td><td>0.851165</td><td>0.841953</td><td>0.846615</td><td>0.847947</td><td>0.866593</td><td>0.845727</td><td>0.850167</td><td>0.87303</td><td>&hellip;</td><td>1.0</td><td>1.0</td><td>1.0</td><td>1.0</td><td>1.0</td><td>1.0</td><td>1.0</td><td>1.0</td><td>1.0</td><td>1.0</td><td>1.0</td><td>1.0</td><td>1.0</td><td>1.0</td><td>1.0</td><td>1.0</td><td>1.0</td><td>1.0</td><td>1.0</td><td>1.0</td><td>1.0</td><td>1.0</td><td>1.0</td><td>1.0</td><td>1.0</td><td>1.0</td><td>1.0</td><td>1.0</td><td>1.0</td><td>1.0</td><td>1.0</td><td>1.0</td><td>38.0</td><td>1.0</td><td>0.98</td><td>0.96</td><td>99.0</td></tr></tbody></table></div>"
      ],
      "text/plain": [
       "shape: (9, 262)\n",
       "┌───────────┬───────────┬───────────┬───────────┬───┬───────────┬───────────┬───────────┬──────────┐\n",
       "│ statistic ┆ gameId    ┆ playId    ┆ frameId   ┆ … ┆ gameClock ┆ preSnapHo ┆ preSnapVi ┆ yardsToS │\n",
       "│ ---       ┆ ---       ┆ ---       ┆ ---       ┆   ┆ ---       ┆ meScore   ┆ sitorScor ┆ core     │\n",
       "│ str       ┆ f64       ┆ f64       ┆ f64       ┆   ┆ f64       ┆ ---       ┆ e         ┆ ---      │\n",
       "│           ┆           ┆           ┆           ┆   ┆           ┆ f64       ┆ ---       ┆ f64      │\n",
       "│           ┆           ┆           ┆           ┆   ┆           ┆           ┆ f64       ┆          │\n",
       "╞═══════════╪═══════════╪═══════════╪═══════════╪═══╪═══════════╪═══════════╪═══════════╪══════════╡\n",
       "│ count     ┆ 2.579445e ┆ 2.579445e ┆ 2.579445e ┆ … ┆ 2.579445e ┆ 2.579445e ┆ 2.579445e ┆ 2.579445 │\n",
       "│           ┆ 6         ┆ 6         ┆ 6         ┆   ┆ 6         ┆ 6         ┆ 6         ┆ e6       │\n",
       "│ null_coun ┆ 0.0       ┆ 0.0       ┆ 0.0       ┆ … ┆ 0.0       ┆ 0.0       ┆ 0.0       ┆ 0.0      │\n",
       "│ t         ┆           ┆           ┆           ┆   ┆           ┆           ┆           ┆          │\n",
       "│ mean      ┆ 2.0221e9  ┆ 1978.9499 ┆ 87.425831 ┆ … ┆ 0.485753  ┆ 0.220356  ┆ 0.195724  ┆ 51.61858 │\n",
       "│           ┆           ┆ 68        ┆           ┆   ┆           ┆           ┆           ┆ 2        │\n",
       "│ std       ┆ 5978.0987 ┆ 1174.3100 ┆ 59.526562 ┆ … ┆ 0.300555  ┆ 0.187577  ┆ 0.181906  ┆ 24.07165 │\n",
       "│           ┆ 29        ┆ 87        ┆           ┆   ┆           ┆           ┆           ┆ 9        │\n",
       "│ min       ┆ 2.0221e9  ┆ 54.0      ┆ 1.0       ┆ … ┆ 0.001111  ┆ 0.0       ┆ 0.0       ┆ 1.0      │\n",
       "│ 25%       ┆ 2.0221e9  ┆ 958.0     ┆ 41.0      ┆ … ┆ 0.214444  ┆ 0.06      ┆ 0.0       ┆ 33.0     │\n",
       "│ 50%       ┆ 2.0221e9  ┆ 1956.0    ┆ 81.0      ┆ … ┆ 0.477778  ┆ 0.2       ┆ 0.14      ┆ 55.0     │\n",
       "│ 75%       ┆ 2.0221e9  ┆ 2970.0    ┆ 126.0     ┆ … ┆ 0.747778  ┆ 0.34      ┆ 0.32      ┆ 72.0     │\n",
       "│ max       ┆ 2.0221e9  ┆ 5120.0    ┆ 1010.0    ┆ … ┆ 1.0       ┆ 0.98      ┆ 0.96      ┆ 99.0     │\n",
       "└───────────┴───────────┴───────────┴───────────┴───┴───────────┴───────────┴───────────┴──────────┘"
      ]
     },
     "execution_count": 5,
     "metadata": {},
     "output_type": "execute_result"
    }
   ],
   "source": [
    "df_test = pl.read_parquet(PARQUET_PATH)\n",
    "df_test.describe()"
   ]
  },
  {
   "cell_type": "code",
   "execution_count": 6,
   "id": "4fd0761d",
   "metadata": {},
   "outputs": [
    {
     "name": "stdout",
     "output_type": "stream",
     "text": [
      "[]\n"
     ]
    }
   ],
   "source": [
    "desc = df_test.describe()\n",
    "\n",
    "# Filter the \"null_count\" row\n",
    "null_row = desc.filter(pl.col(\"statistic\") == \"null_count\")\n",
    "\n",
    "# Now grab all columns from that row (except \"statistic\")\n",
    "nulls = null_row.drop(\"statistic\").row(0)  # row(0) gives a tuple of values\n",
    "\n",
    "# Get the column names that match (excluding \"statistic\")\n",
    "cols = desc.columns[1:]  # skip \"statistic\" itself\n",
    "\n",
    "# Zip column names with null counts, and filter those with nulls\n",
    "columns_with_nulls = [col for col, count in zip(cols, nulls) if count != 0]\n",
    "\n",
    "print(columns_with_nulls)\n"
   ]
  },
  {
   "cell_type": "code",
   "execution_count": 7,
   "id": "b26a3a3f",
   "metadata": {},
   "outputs": [
    {
     "name": "stdout",
     "output_type": "stream",
     "text": [
      "shape: (49_984, 49)\n",
      "┌────────────┬────────┬─────────┬──────────┬───┬──────────┬──────────┬──────────┬──────────┐\n",
      "│ gameId     ┆ playId ┆ frameId ┆ x_1      ┆ … ┆ x_22     ┆ y_22     ┆ x_23     ┆ y_23     │\n",
      "│ ---        ┆ ---    ┆ ---     ┆ ---      ┆   ┆ ---      ┆ ---      ┆ ---      ┆ ---      │\n",
      "│ i64        ┆ i64    ┆ i64     ┆ f64      ┆   ┆ f64      ┆ f64      ┆ f64      ┆ f64      │\n",
      "╞════════════╪════════╪═════════╪══════════╪═══╪══════════╪══════════╪══════════╪══════════╡\n",
      "│ 2022091101 ┆ 1669   ┆ 1       ┆ 0.727311 ┆ … ┆ 0.664496 ┆ 0.40899  ┆ 0.680042 ┆ 0.469478 │\n",
      "│ 2022091101 ┆ 1669   ┆ 2       ┆ 0.726961 ┆ … ┆ 0.664426 ┆ 0.408435 ┆ 0.680042 ┆ 0.469478 │\n",
      "│ 2022091101 ┆ 1669   ┆ 3       ┆ 0.726471 ┆ … ┆ 0.664356 ┆ 0.40788  ┆ 0.680042 ┆ 0.469478 │\n",
      "│ 2022091101 ┆ 1669   ┆ 4       ┆ 0.72591  ┆ … ┆ 0.664426 ┆ 0.407436 ┆ 0.679972 ┆ 0.469478 │\n",
      "│ 2022091101 ┆ 1669   ┆ 5       ┆ 0.72514  ┆ … ┆ 0.664426 ┆ 0.407103 ┆ 0.679972 ┆ 0.469478 │\n",
      "│ …          ┆ …      ┆ …       ┆ …        ┆ … ┆ …        ┆ …        ┆ …        ┆ …        │\n",
      "│ 2022110700 ┆ 3323   ┆ 142     ┆ 0.314706 ┆ … ┆ 0.246849 ┆ 0.289678 ┆ 0.320798 ┆ 0.242508 │\n",
      "│ 2022110700 ┆ 3323   ┆ 143     ┆ 0.316106 ┆ … ┆ 0.246919 ┆ 0.2899   ┆ 0.321709 ┆ 0.241842 │\n",
      "│ 2022110700 ┆ 3323   ┆ 144     ┆ 0.317297 ┆ … ┆ 0.246989 ┆ 0.290011 ┆ 0.322269 ┆ 0.241509 │\n",
      "│ 2022110700 ┆ 3323   ┆ 145     ┆ 0.318347 ┆ … ┆ 0.247129 ┆ 0.290233 ┆ 0.322619 ┆ 0.241509 │\n",
      "│ 2022110700 ┆ 3323   ┆ 146     ┆ 0.319398 ┆ … ┆ 0.247269 ┆ 0.290455 ┆ 0.322759 ┆ 0.241731 │\n",
      "└────────────┴────────┴─────────┴──────────┴───┴──────────┴──────────┴──────────┴──────────┘\n"
     ]
    }
   ],
   "source": [
    "\"\"\"def load_parquet(path: str) -> pl.DataFrame:\n",
    "    cols = [\"gameId\", \"playId\", \"frameId\"] + INPUT_FEATURES\n",
    "    return pl.read_parquet(path, columns=cols)\"\"\"\n",
    "\n",
    "def load_parquet(path: str) -> pl.DataFrame:\n",
    "    \"\"\"\n",
    "    Load **only the first 100 distinct (gameId, playId) plays** from the parquet.\n",
    "\n",
    "    Notes\n",
    "    -----\n",
    "    • Uses Polars’ lazy `scan_parquet` so it doesn’t read the whole file.  \n",
    "    • Keeps the original column list behaviour.\n",
    "    \"\"\"\n",
    "    cols = [\"gameId\", \"playId\", \"frameId\"] + INPUT_FEATURES\n",
    "\n",
    "    # Get the first 100 unique play keys\n",
    "    first_100 = (\n",
    "        pl.scan_parquet(path)\n",
    "          .select([\"gameId\", \"playId\"])\n",
    "          .unique()\n",
    "          .limit(100)\n",
    "          .collect()\n",
    "    )\n",
    "    gids, pids = first_100[\"gameId\"], first_100[\"playId\"]\n",
    "\n",
    "    # Load only rows that belong to those 100 plays\n",
    "    return (\n",
    "        pl.scan_parquet(path)\n",
    "          .filter(pl.col(\"gameId\").is_in(gids) & pl.col(\"playId\").is_in(pids))\n",
    "          .select(cols)\n",
    "          .collect()\n",
    "    )\n",
    "\n",
    "\n",
    "df_pl = load_parquet(PARQUET_PATH)\n",
    "print(df_pl)\n"
   ]
  },
  {
   "cell_type": "code",
   "execution_count": 8,
   "id": "c080a4a8",
   "metadata": {},
   "outputs": [
    {
     "data": {
      "text/plain": [
       "'df_all = load_parquet(PARQUET_PATH)'"
      ]
     },
     "execution_count": 8,
     "metadata": {},
     "output_type": "execute_result"
    }
   ],
   "source": [
    "# 1. Load just the first 500 plays (handy for prototyping)\n",
    "\"\"\"df_small = load_parquet(PARQUET_PATH, n_plays=500)\"\"\"\n",
    "\n",
    "# 2. Load three specific plays you want to debug\n",
    "\"\"\"wanted = [(2022110602, 2414), (2022102300, 1219), (2022100906, 726)]\n",
    "df_dbg = load_parquet(PARQUET_PATH, specific_plays=wanted)\"\"\"\n",
    "\n",
    "# 3. Load everything (original behaviour)\n",
    "\"\"\"df_all = load_parquet(PARQUET_PATH)\"\"\""
   ]
  },
  {
   "cell_type": "code",
   "execution_count": 9,
   "id": "0f8a0bff",
   "metadata": {},
   "outputs": [
    {
     "data": {
      "text/html": [
       "<div><style>\n",
       ".dataframe > thead > tr,\n",
       ".dataframe > tbody > tr {\n",
       "  text-align: right;\n",
       "  white-space: pre-wrap;\n",
       "}\n",
       "</style>\n",
       "<small>shape: (5, 49)</small><table border=\"1\" class=\"dataframe\"><thead><tr><th>gameId</th><th>playId</th><th>frameId</th><th>x_1</th><th>y_1</th><th>x_2</th><th>y_2</th><th>x_3</th><th>y_3</th><th>x_4</th><th>y_4</th><th>x_5</th><th>y_5</th><th>x_6</th><th>y_6</th><th>x_7</th><th>y_7</th><th>x_8</th><th>y_8</th><th>x_9</th><th>y_9</th><th>x_10</th><th>y_10</th><th>x_11</th><th>y_11</th><th>x_12</th><th>y_12</th><th>x_13</th><th>y_13</th><th>x_14</th><th>y_14</th><th>x_15</th><th>y_15</th><th>x_16</th><th>y_16</th><th>x_17</th><th>y_17</th><th>x_18</th><th>y_18</th><th>x_19</th><th>y_19</th><th>x_20</th><th>y_20</th><th>x_21</th><th>y_21</th><th>x_22</th><th>y_22</th><th>x_23</th><th>y_23</th></tr><tr><td>i64</td><td>i64</td><td>i64</td><td>f64</td><td>f64</td><td>f64</td><td>f64</td><td>f64</td><td>f64</td><td>f64</td><td>f64</td><td>f64</td><td>f64</td><td>f64</td><td>f64</td><td>f64</td><td>f64</td><td>f64</td><td>f64</td><td>f64</td><td>f64</td><td>f64</td><td>f64</td><td>f64</td><td>f64</td><td>f64</td><td>f64</td><td>f64</td><td>f64</td><td>f64</td><td>f64</td><td>f64</td><td>f64</td><td>f64</td><td>f64</td><td>f64</td><td>f64</td><td>f64</td><td>f64</td><td>f64</td><td>f64</td><td>f64</td><td>f64</td><td>f64</td><td>f64</td><td>f64</td><td>f64</td><td>f64</td><td>f64</td></tr></thead><tbody><tr><td>2022091101</td><td>1669</td><td>1</td><td>0.727311</td><td>0.481576</td><td>0.667927</td><td>0.533851</td><td>0.713796</td><td>0.485794</td><td>0.705042</td><td>0.464373</td><td>0.72437</td><td>0.458269</td><td>0.620938</td><td>0.535183</td><td>0.654132</td><td>0.470921</td><td>0.721499</td><td>0.468036</td><td>0.658964</td><td>0.344728</td><td>0.72409</td><td>0.446504</td><td>0.665126</td><td>0.463818</td><td>0.702101</td><td>0.481243</td><td>0.718978</td><td>0.48657</td><td>0.640616</td><td>0.48646</td><td>0.623319</td><td>0.444617</td><td>0.663375</td><td>0.483907</td><td>0.721499</td><td>0.476582</td><td>0.656022</td><td>0.60566</td><td>0.647269</td><td>0.477248</td><td>0.706933</td><td>0.45394</td><td>0.715196</td><td>0.446948</td><td>0.664496</td><td>0.40899</td><td>0.680042</td><td>0.469478</td></tr><tr><td>2022091101</td><td>1669</td><td>2</td><td>0.726961</td><td>0.484573</td><td>0.667927</td><td>0.534184</td><td>0.712955</td><td>0.48646</td><td>0.702941</td><td>0.464151</td><td>0.72451</td><td>0.45838</td><td>0.620378</td><td>0.535738</td><td>0.654062</td><td>0.47081</td><td>0.721008</td><td>0.468147</td><td>0.658964</td><td>0.343285</td><td>0.723179</td><td>0.444062</td><td>0.665126</td><td>0.463929</td><td>0.70112</td><td>0.481132</td><td>0.718698</td><td>0.487458</td><td>0.640616</td><td>0.486349</td><td>0.623389</td><td>0.444506</td><td>0.663375</td><td>0.483907</td><td>0.721219</td><td>0.476249</td><td>0.655742</td><td>0.606437</td><td>0.646989</td><td>0.476915</td><td>0.705602</td><td>0.453274</td><td>0.714076</td><td>0.445949</td><td>0.664426</td><td>0.408435</td><td>0.680042</td><td>0.469478</td></tr><tr><td>2022091101</td><td>1669</td><td>3</td><td>0.726471</td><td>0.487902</td><td>0.667997</td><td>0.534517</td><td>0.711835</td><td>0.48768</td><td>0.70091</td><td>0.46404</td><td>0.72472</td><td>0.458491</td><td>0.619818</td><td>0.536182</td><td>0.654062</td><td>0.470699</td><td>0.720378</td><td>0.468258</td><td>0.658964</td><td>0.341731</td><td>0.722269</td><td>0.441176</td><td>0.665266</td><td>0.464262</td><td>0.70014</td><td>0.481465</td><td>0.718277</td><td>0.488457</td><td>0.640686</td><td>0.486238</td><td>0.623389</td><td>0.444284</td><td>0.663375</td><td>0.483907</td><td>0.720658</td><td>0.475694</td><td>0.655322</td><td>0.607103</td><td>0.646709</td><td>0.476582</td><td>0.704272</td><td>0.452608</td><td>0.712815</td><td>0.444728</td><td>0.664356</td><td>0.40788</td><td>0.680042</td><td>0.469478</td></tr><tr><td>2022091101</td><td>1669</td><td>4</td><td>0.72591</td><td>0.491343</td><td>0.667787</td><td>0.53485</td><td>0.710574</td><td>0.48879</td><td>0.69895</td><td>0.464151</td><td>0.72486</td><td>0.458602</td><td>0.619328</td><td>0.536626</td><td>0.653992</td><td>0.470588</td><td>0.719818</td><td>0.468258</td><td>0.658964</td><td>0.340289</td><td>0.721219</td><td>0.438069</td><td>0.665476</td><td>0.464817</td><td>0.69909</td><td>0.481687</td><td>0.717577</td><td>0.489456</td><td>0.640686</td><td>0.486127</td><td>0.623389</td><td>0.444062</td><td>0.663375</td><td>0.483907</td><td>0.719748</td><td>0.474584</td><td>0.654832</td><td>0.60788</td><td>0.646499</td><td>0.476249</td><td>0.702871</td><td>0.452053</td><td>0.711555</td><td>0.443396</td><td>0.664426</td><td>0.407436</td><td>0.679972</td><td>0.469478</td></tr><tr><td>2022091101</td><td>1669</td><td>5</td><td>0.72514</td><td>0.494895</td><td>0.667717</td><td>0.535072</td><td>0.709244</td><td>0.490122</td><td>0.696849</td><td>0.464484</td><td>0.72521</td><td>0.458824</td><td>0.618908</td><td>0.537292</td><td>0.653992</td><td>0.470477</td><td>0.719258</td><td>0.468368</td><td>0.658964</td><td>0.338846</td><td>0.720098</td><td>0.434739</td><td>0.665686</td><td>0.465039</td><td>0.698039</td><td>0.481909</td><td>0.717017</td><td>0.490677</td><td>0.640686</td><td>0.486016</td><td>0.623389</td><td>0.443951</td><td>0.663445</td><td>0.483685</td><td>0.718557</td><td>0.47303</td><td>0.654272</td><td>0.608546</td><td>0.646289</td><td>0.475916</td><td>0.701471</td><td>0.451498</td><td>0.710154</td><td>0.441953</td><td>0.664426</td><td>0.407103</td><td>0.679972</td><td>0.469478</td></tr></tbody></table></div>"
      ],
      "text/plain": [
       "shape: (5, 49)\n",
       "┌────────────┬────────┬─────────┬──────────┬───┬──────────┬──────────┬──────────┬──────────┐\n",
       "│ gameId     ┆ playId ┆ frameId ┆ x_1      ┆ … ┆ x_22     ┆ y_22     ┆ x_23     ┆ y_23     │\n",
       "│ ---        ┆ ---    ┆ ---     ┆ ---      ┆   ┆ ---      ┆ ---      ┆ ---      ┆ ---      │\n",
       "│ i64        ┆ i64    ┆ i64     ┆ f64      ┆   ┆ f64      ┆ f64      ┆ f64      ┆ f64      │\n",
       "╞════════════╪════════╪═════════╪══════════╪═══╪══════════╪══════════╪══════════╪══════════╡\n",
       "│ 2022091101 ┆ 1669   ┆ 1       ┆ 0.727311 ┆ … ┆ 0.664496 ┆ 0.40899  ┆ 0.680042 ┆ 0.469478 │\n",
       "│ 2022091101 ┆ 1669   ┆ 2       ┆ 0.726961 ┆ … ┆ 0.664426 ┆ 0.408435 ┆ 0.680042 ┆ 0.469478 │\n",
       "│ 2022091101 ┆ 1669   ┆ 3       ┆ 0.726471 ┆ … ┆ 0.664356 ┆ 0.40788  ┆ 0.680042 ┆ 0.469478 │\n",
       "│ 2022091101 ┆ 1669   ┆ 4       ┆ 0.72591  ┆ … ┆ 0.664426 ┆ 0.407436 ┆ 0.679972 ┆ 0.469478 │\n",
       "│ 2022091101 ┆ 1669   ┆ 5       ┆ 0.72514  ┆ … ┆ 0.664426 ┆ 0.407103 ┆ 0.679972 ┆ 0.469478 │\n",
       "└────────────┴────────┴─────────┴──────────┴───┴──────────┴──────────┴──────────┴──────────┘"
      ]
     },
     "execution_count": 9,
     "metadata": {},
     "output_type": "execute_result"
    }
   ],
   "source": [
    "df_pl.head()\n"
   ]
  },
  {
   "cell_type": "code",
   "execution_count": 10,
   "id": "5d497652",
   "metadata": {},
   "outputs": [
    {
     "name": "stdout",
     "output_type": "stream",
     "text": [
      "49674 sequence / target pairs\n"
     ]
    }
   ],
   "source": [
    "def build_xy(df: pl.DataFrame\n",
    "             ) -> Tuple[List[np.ndarray], List[np.ndarray], List[int]]:\n",
    "    pdf = df.to_pandas()\n",
    "    g   = pdf.groupby([\"gameId\", \"playId\"], sort=False)\n",
    "\n",
    "    X_list, Y_list, lengths = [], [], []\n",
    "\n",
    "    for (_, _), play in g:\n",
    "        play = play.sort_values(\"frameId\").reset_index(drop=True)\n",
    "        if len(play) < SEQ_MIN_LEN:\n",
    "            continue\n",
    "\n",
    "        for t in range(len(play) - 1):\n",
    "            x_t   = play.iloc[:t+1][INPUT_FEATURES].values      # (t+1 , 46)\n",
    "            y_tp1 = play.iloc[t+1][TARGET_FEATURES].values      # (46,)\n",
    "            X_list.append(x_t)\n",
    "            Y_list.append(y_tp1)\n",
    "            lengths.append(len(x_t))\n",
    "\n",
    "    return X_list, Y_list, lengths\n",
    "\n",
    "X_seq, Y_vec, seq_lengths = build_xy(df_pl)\n",
    "print(len(X_seq), \"sequence / target pairs\")\n"
   ]
  },
  {
   "cell_type": "code",
   "execution_count": 11,
   "id": "2903c191",
   "metadata": {},
   "outputs": [
    {
     "data": {
      "image/png": "[encoded data removed]",
      "text/plain": [
       "<Figure size 600x300 with 1 Axes>"
      ]
     },
     "metadata": {},
     "output_type": "display_data"
    }
   ],
   "source": [
    "plt.figure(figsize=(6,3))\n",
    "sns.histplot(seq_lengths, bins=30)\n",
    "plt.title(\"Distribution of input sequence lengths\")\n",
    "plt.xlabel(\"timesteps in X_t\")\n",
    "plt.show()\n"
   ]
  },
  {
   "cell_type": "code",
   "execution_count": 12,
   "id": "996b3852",
   "metadata": {},
   "outputs": [
    {
     "name": "stdout",
     "output_type": "stream",
     "text": [
      "X_padded → (49674, 100, 46)\n",
      "Y_array  → (49674, 46)\n"
     ]
    }
   ],
   "source": [
    "X_padded = tf.keras.preprocessing.sequence.pad_sequences(\n",
    "    X_seq,\n",
    "    maxlen     = MAX_SEQ_LEN,\n",
    "    dtype      = \"float32\",\n",
    "    padding    = \"pre\",\n",
    "    truncating = \"pre\",\n",
    ")\n",
    "Y_array = np.stack(Y_vec).astype(\"float32\")\n",
    "\n",
    "print(\"X_padded →\", X_padded.shape)   # (N , MAX_SEQ_LEN , 46)\n",
    "print(\"Y_array  →\", Y_array.shape)    # (N , 46)\n"
   ]
  },
  {
   "cell_type": "code",
   "execution_count": 13,
   "id": "b791268d",
   "metadata": {},
   "outputs": [
    {
     "data": {
      "image/png": "[encoded data removed]",
      "text/plain": [
       "<Figure size 700x300 with 1 Axes>"
      ]
     },
     "metadata": {},
     "output_type": "display_data"
    }
   ],
   "source": [
    "sample = X_padded[3000]           # choose any index\n",
    "plt.figure(figsize=(7,3))\n",
    "sns.heatmap(sample, cmap=\"viridis\", cbar=False)\n",
    "plt.title(\"Padding (rows) × Features (cols) — 0s are dark\")\n",
    "plt.xlabel(\"Features (46)\")\n",
    "plt.ylabel(\"Padded time dimension\")\n",
    "plt.show()\n"
   ]
  },
  {
   "cell_type": "code",
   "execution_count": 14,
   "id": "6b9d0e7e",
   "metadata": {},
   "outputs": [],
   "source": [
    "BATCH = 64\n",
    "\n",
    "dataset = tf.data.Dataset.from_tensor_slices((X_padded, Y_array))\\\n",
    "            .shuffle(buffer_size=len(X_padded), reshuffle_each_iteration=True)\\\n",
    "            .batch(BATCH)\\\n",
    "            .prefetch(tf.data.AUTOTUNE)\n"
   ]
  },
  {
   "cell_type": "code",
   "execution_count": 15,
   "id": "399641d4",
   "metadata": {},
   "outputs": [
    {
     "name": "stdout",
     "output_type": "stream",
     "text": [
      "Batch X: (64, 100, 46)\n",
      "Batch Y: (64, 46)\n"
     ]
    }
   ],
   "source": [
    "for xb, yb in dataset.take(1):\n",
    "    print(\"Batch X:\", xb.shape)   # (BATCH , MAX_SEQ_LEN , 46)\n",
    "    print(\"Batch Y:\", yb.shape)   # (BATCH , 46)\n"
   ]
  },
  {
   "cell_type": "code",
   "execution_count": 16,
   "id": "8d93842e",
   "metadata": {},
   "outputs": [
    {
     "name": "stdout",
     "output_type": "stream",
     "text": [
      "Sample #2   –   real frames: [97, 98, 99]\n",
      "\n",
      "🖼️  Frame 97\n",
      "  Player 01: x = 0.368, y = 0.514\n",
      "  Player 02: x = 0.317, y = 0.505\n",
      "  Player 03: x = 0.370, y = 0.559\n",
      "  Player 04: x = 0.329, y = 0.516\n",
      "  Player 05: x = 0.336, y = 0.536\n",
      "  Player 06: x = 0.394, y = 0.521\n",
      "  Player 07: x = 0.380, y = 0.539\n",
      "  Player 08: x = 0.317, y = 0.533\n",
      "  Player 09: x = 0.371, y = 0.583\n",
      "  Player 10: x = 0.317, y = 0.557\n",
      "  Player 11: x = 0.369, y = 0.540\n",
      "  Player 12: x = 0.337, y = 0.525\n",
      "  Player 13: x = 0.393, y = 0.557\n",
      "  Player 14: x = 0.371, y = 0.521\n",
      "  Player 15: x = 0.378, y = 0.527\n",
      "  Player 16: x = 0.385, y = 0.547\n",
      "  Player 17: x = 0.332, y = 0.545\n",
      "  Player 18: x = 0.325, y = 0.531\n",
      "  Player 19: x = 0.313, y = 0.543\n",
      "  Player 20: x = 0.311, y = 0.516\n",
      "  Player 21: x = 0.324, y = 0.552\n",
      "  Player 22: x = 0.379, y = 0.515\n",
      "  Player 23: x = 0.355, y = 0.538\n",
      "\n",
      "🖼️  Frame 98\n",
      "  Player 01: x = 0.368, y = 0.514\n",
      "  Player 02: x = 0.318, y = 0.502\n",
      "  Player 03: x = 0.370, y = 0.560\n",
      "  Player 04: x = 0.330, y = 0.515\n",
      "  Player 05: x = 0.337, y = 0.536\n",
      "  Player 06: x = 0.394, y = 0.521\n",
      "  Player 07: x = 0.380, y = 0.539\n",
      "  Player 08: x = 0.318, y = 0.533\n",
      "  Player 09: x = 0.371, y = 0.585\n",
      "  Player 10: x = 0.317, y = 0.560\n",
      "  Player 11: x = 0.369, y = 0.540\n",
      "  Player 12: x = 0.338, y = 0.524\n",
      "  Player 13: x = 0.394, y = 0.557\n",
      "  Player 14: x = 0.371, y = 0.520\n",
      "  Player 15: x = 0.379, y = 0.526\n",
      "  Player 16: x = 0.385, y = 0.548\n",
      "  Player 17: x = 0.333, y = 0.546\n",
      "  Player 18: x = 0.325, y = 0.533\n",
      "  Player 19: x = 0.313, y = 0.544\n",
      "  Player 20: x = 0.312, y = 0.514\n",
      "  Player 21: x = 0.324, y = 0.553\n",
      "  Player 22: x = 0.379, y = 0.513\n",
      "  Player 23: x = 0.355, y = 0.538\n",
      "\n",
      "🖼️  Frame 99\n",
      "  Player 01: x = 0.368, y = 0.514\n",
      "  Player 02: x = 0.318, y = 0.499\n",
      "  Player 03: x = 0.371, y = 0.560\n",
      "  Player 04: x = 0.331, y = 0.514\n",
      "  Player 05: x = 0.339, y = 0.536\n",
      "  Player 06: x = 0.394, y = 0.522\n",
      "  Player 07: x = 0.380, y = 0.538\n",
      "  Player 08: x = 0.318, y = 0.533\n",
      "  Player 09: x = 0.370, y = 0.587\n",
      "  Player 10: x = 0.318, y = 0.563\n",
      "  Player 11: x = 0.369, y = 0.541\n",
      "  Player 12: x = 0.339, y = 0.524\n",
      "  Player 13: x = 0.395, y = 0.558\n",
      "  Player 14: x = 0.370, y = 0.520\n",
      "  Player 15: x = 0.379, y = 0.525\n",
      "  Player 16: x = 0.385, y = 0.549\n",
      "  Player 17: x = 0.334, y = 0.546\n",
      "  Player 18: x = 0.326, y = 0.535\n",
      "  Player 19: x = 0.313, y = 0.545\n",
      "  Player 20: x = 0.313, y = 0.512\n",
      "  Player 21: x = 0.325, y = 0.554\n",
      "  Player 22: x = 0.379, y = 0.511\n",
      "  Player 23: x = 0.355, y = 0.538\n",
      "\n",
      "🎯 Target (t+1) vector:\n",
      "  Player 01: x̂ = 0.368, ŷ = 0.514\n",
      "  Player 02: x̂ = 0.319, ŷ = 0.496\n",
      "  Player 03: x̂ = 0.371, ŷ = 0.560\n",
      "  Player 04: x̂ = 0.332, ŷ = 0.512\n",
      "  Player 05: x̂ = 0.340, ŷ = 0.537\n",
      "  Player 06: x̂ = 0.394, ŷ = 0.522\n",
      "  Player 07: x̂ = 0.381, ŷ = 0.538\n",
      "  Player 08: x̂ = 0.319, ŷ = 0.533\n",
      "  Player 09: x̂ = 0.370, ŷ = 0.589\n",
      "  Player 10: x̂ = 0.318, ŷ = 0.567\n",
      "  Player 11: x̂ = 0.369, ŷ = 0.541\n",
      "  Player 12: x̂ = 0.339, ŷ = 0.523\n",
      "  Player 13: x̂ = 0.396, ŷ = 0.558\n",
      "  Player 14: x̂ = 0.370, ŷ = 0.519\n",
      "  Player 15: x̂ = 0.380, ŷ = 0.524\n",
      "  Player 16: x̂ = 0.386, ŷ = 0.549\n",
      "  Player 17: x̂ = 0.336, ŷ = 0.547\n",
      "  Player 18: x̂ = 0.327, ŷ = 0.537\n",
      "  Player 19: x̂ = 0.313, ŷ = 0.546\n",
      "  Player 20: x̂ = 0.314, ŷ = 0.509\n",
      "  Player 21: x̂ = 0.325, ŷ = 0.555\n",
      "  Player 22: x̂ = 0.379, ŷ = 0.509\n",
      "  Player 23: x̂ = 0.356, ŷ = 0.538\n"
     ]
    }
   ],
   "source": [
    "NUM_ENTITIES = 23      # ← already defined above\n",
    "\n",
    "# ── 1 · find the first sample with ≥ 3 non‑padding frames ────────────────\n",
    "sample_idx = next(\n",
    "    i for i, x in enumerate(X_padded)\n",
    "    if (x.sum(axis=1) != 0).sum() >= 3\n",
    ")\n",
    "\n",
    "# indices of real (non‑zero) frames in that sample\n",
    "real_rows = np.where(X_padded[sample_idx].sum(axis=1) != 0)[0]\n",
    "\n",
    "print(f\"Sample #{sample_idx}   –   real frames: {real_rows.tolist()}\")\n",
    "\n",
    "# ── 2 · print x,y for the first three frames ────────────────────────────\n",
    "for f_idx in real_rows[:3]:\n",
    "    frame = X_padded[sample_idx, f_idx]        # shape (46,)\n",
    "    xs, ys = frame[::2], frame[1::2]           # split into 23 x‑coords & 23 y‑coords\n",
    "    print(f\"\\n🖼️  Frame {f_idx}\")\n",
    "    for p in range(NUM_ENTITIES):\n",
    "        print(f\"  Player {p+1:02d}: x = {xs[p]:.3f}, y = {ys[p]:.3f}\")\n",
    "\n",
    "# ── 3 · print the Y target that corresponds to this (X, Y) pair ─────────\n",
    "print(\"\\n🎯 Target (t+1) vector:\")\n",
    "for p in range(NUM_ENTITIES):\n",
    "    x_t1 = Y_array[sample_idx][2*p]\n",
    "    y_t1 = Y_array[sample_idx][2*p + 1]\n",
    "    print(f\"  Player {p+1:02d}: x̂ = {x_t1:.3f}, ŷ = {y_t1:.3f}\")\n"
   ]
  },
  {
   "cell_type": "code",
   "execution_count": 17,
   "id": "131ac3eb",
   "metadata": {},
   "outputs": [
    {
     "name": "stdout",
     "output_type": "stream",
     "text": [
      "✅ Saved dataset to “NFL_data/transformer_dataset/”\n",
      "Loaded batch shapes: (64, 100, 46) (64, 46)\n"
     ]
    }
   ],
   "source": [
    "# ──────────────────────────────────────────────────────────────\n",
    "# 6 · Persist the dataset                                     │\n",
    "# ──────────────────────────────────────────────────────────────\n",
    "#\n",
    "# We **save the un‑batched, un‑shuffled dataset** so that the\n",
    "# file on disk is deterministic.  (You can always shuffle/batch\n",
    "# again after loading.)\n",
    "\n",
    "FOLDER = \"NFL_data/\"\n",
    "RAW_SAVE_DIR = FOLDER + \"transformer_dataset\"      # any folder name you like\n",
    "\n",
    "# ❶ strip shuffling / batching for a clean, raw save\n",
    "raw_ds = tf.data.Dataset.from_tensor_slices((X_padded, Y_array))\n",
    "\n",
    "# ❷ write to disk   (TF ≥ 2.14 uses Dataset.save; older TF → tf.data.experimental.save)\n",
    "raw_ds.save(RAW_SAVE_DIR)          # creates a directory full of TFRecords\n",
    "\n",
    "print(f\"✅ Saved dataset to “{RAW_SAVE_DIR}/”\")\n",
    "\n",
    "# ──────────────────────────────────────────────────────────────\n",
    "# 7 · Reload and rebuild pipeline                             │\n",
    "# ──────────────────────────────────────────────────────────────\n",
    "#\n",
    "#   load  → shuffle → batch → prefetch\n",
    "#\n",
    "loaded_raw = tf.data.Dataset.load(RAW_SAVE_DIR)\n",
    "\n",
    "BATCH  = 64\n",
    "loaded_ds = loaded_raw.shuffle(4096).batch(BATCH).prefetch(tf.data.AUTOTUNE)\n",
    "\n",
    "# quick sanity‑check\n",
    "for xb, yb in loaded_ds.take(1):\n",
    "    print(\"Loaded batch shapes:\", xb.shape, yb.shape)\n"
   ]
  }
 ],
 "metadata": {
  "kernelspec": {
   "display_name": "NFL_env",
   "language": "python",
   "name": "python3"
  },
  "language_info": {
   "codemirror_mode": {
    "name": "ipython",
    "version": 3
   },
   "file_extension": ".py",
   "mimetype": "text/x-python",
   "name": "python",
   "nbconvert_exporter": "python",
   "pygments_lexer": "ipython3",
   "version": "3.10.16"
  }
 },
 "nbformat": 4,
 "nbformat_minor": 5
}
